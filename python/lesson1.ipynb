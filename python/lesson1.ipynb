{
 "cells": [
  {
   "cell_type": "markdown",
   "id": "eae6e582",
   "metadata": {},
   "source": [
    "### python 儲存資料\n",
    "- 變數\n",
    "- list\n",
    "- dict"
   ]
  },
  {
   "cell_type": "code",
   "execution_count": 1,
   "id": "151f3b08",
   "metadata": {},
   "outputs": [
    {
     "name": "stdout",
     "output_type": "stream",
     "text": [
      "建立變數\n",
      "變數內容 Python\n",
      "變數類型 <class 'str'>\n",
      "變數長度 6\n"
     ]
    }
   ],
   "source": [
    "print(\"建立變數\")\n",
    "name = \"Python\"\n",
    "print(\"變數內容\", name)\n",
    "print(\"變數類型\", type(name))\n",
    "print(\"變數長度\", len(name))"
   ]
  },
  {
   "cell_type": "code",
   "execution_count": 5,
   "id": "d6ff6a4b",
   "metadata": {},
   "outputs": [
    {
     "name": "stdout",
     "output_type": "stream",
     "text": [
      "1__5.0__Python__True.\n"
     ]
    }
   ],
   "source": [
    "print(1, 5.0, \"Python\", True, sep=\"__\", end=\".\\n\")"
   ]
  }
 ],
 "metadata": {
  "kernelspec": {
   "display_name": "sam_pi",
   "language": "python",
   "name": "python3"
  },
  "language_info": {
   "codemirror_mode": {
    "name": "ipython",
    "version": 3
   },
   "file_extension": ".py",
   "mimetype": "text/x-python",
   "name": "python",
   "nbconvert_exporter": "python",
   "pygments_lexer": "ipython3",
   "version": "3.12.11"
  }
 },
 "nbformat": 4,
 "nbformat_minor": 5
}
